{
 "cells": [
  {
   "cell_type": "code",
   "execution_count": 99,
   "metadata": {},
   "outputs": [],
   "source": [
    "# Player list\n",
    "expert = [\n",
    "    \"aelisheneithlon\",\n",
    "    \"jonmui28\",\n",
    "    \"wildes_\",\n",
    "    \"udon66\",\n",
    "    \"JangoMV\",\n",
    "    \"infinity_clover\",\n",
    "    \"hope\",\n",
    "    \"PLush2\",\n",
    "    \"simber_2925\",\n",
    "    \"vr11lazarus\",\n",
    "    \"GentlemanTofu\",\n",
    "    \"evanesq\",\n",
    "    \"KingJofrethe001\",\n",
    "    \"tofuwater\"\n",
    "]\n",
    "\n",
    "beginner = [\n",
    "    \"pandagohappy\",\n",
    "    \"punktoria\",\n",
    "    \"Marklov\",\n",
    "    \"levywalker\"\n",
    "]"
   ]
  },
  {
   "cell_type": "code",
   "execution_count": 100,
   "metadata": {},
   "outputs": [],
   "source": [
    "import random\n",
    "def randomize(players):\n",
    "    if len(players) < 3:\n",
    "        print(\"Not enough players.\")\n",
    "        return\n",
    "\n",
    "    games4 = len(players) // 4\n",
    "    games3, games5 = 0, 0 \n",
    "    leftover = len(players) % 4\n",
    "    \n",
    "    if leftover == 1:\n",
    "        if games4 >= 2:\n",
    "            games4 -= 2\n",
    "            games3 = 3\n",
    "        else:\n",
    "            games5 = 1\n",
    "    elif leftover == 2: # games4 will forced >= 1 by this point\n",
    "        games4 -= 1\n",
    "        games3 = 2\n",
    "    elif leftover == 3:\n",
    "        games3 = 1\n",
    "\n",
    "    iterations = {\n",
    "        \"5\": games5,\n",
    "        \"4\": games4,\n",
    "        \"3\": games3\n",
    "    }\n",
    "    \n",
    "    temp_players = players.copy()\n",
    "    random.shuffle(temp_players)\n",
    "    brackets = []\n",
    "\n",
    "    for k, v in iterations.items():\n",
    "        for i in range(0, v):\n",
    "            brackets.append(temp_players[0:int(k)])\n",
    "            temp_players = temp_players[int(k):]\n",
    "\n",
    "    for i in range(0, len(brackets)):\n",
    "        print(f\"Game {i+1}: {brackets[i]}\")\n",
    "    return"
   ]
  },
  {
   "cell_type": "code",
   "execution_count": 106,
   "metadata": {},
   "outputs": [
    {
     "name": "stdout",
     "output_type": "stream",
     "text": [
      "Game 1: ['tofuwater', 'jonmui28', 'simber_2925', 'infinity_clover']\n",
      "Game 2: ['JangoMV', 'wildes_', 'KingJofrethe001', 'vr11lazarus']\n",
      "Game 3: ['udon66', 'evanesq', 'PLush2']\n",
      "Game 4: ['aelisheneithlon', 'hope', 'GentlemanTofu']\n",
      "Game 1: ['levywalker', 'Marklov', 'pandagohappy', 'punktoria']\n"
     ]
    }
   ],
   "source": [
    "randomize(expert)\n",
    "randomize(beginner)"
   ]
  },
  {
   "cell_type": "code",
   "execution_count": null,
   "metadata": {},
   "outputs": [],
   "source": []
  }
 ],
 "metadata": {
  "kernelspec": {
   "display_name": "work",
   "language": "python",
   "name": "python3"
  },
  "language_info": {
   "codemirror_mode": {
    "name": "ipython",
    "version": 3
   },
   "file_extension": ".py",
   "mimetype": "text/x-python",
   "name": "python",
   "nbconvert_exporter": "python",
   "pygments_lexer": "ipython3",
   "version": "3.12.0"
  }
 },
 "nbformat": 4,
 "nbformat_minor": 2
}
