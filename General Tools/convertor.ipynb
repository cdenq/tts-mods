{
 "cells": [
  {
   "cell_type": "code",
   "execution_count": 1,
   "metadata": {},
   "outputs": [],
   "source": [
    "def aspect(num, aspect):\n",
    "    print(f\"{round(num*aspect[0],0)} x {int(round(num*aspect[1],0))}\")"
   ]
  },
  {
   "cell_type": "code",
   "execution_count": 4,
   "metadata": {},
   "outputs": [
    {
     "name": "stdout",
     "output_type": "stream",
     "text": [
      "900 x 9300\n",
      "900 x 4650\n"
     ]
    }
   ],
   "source": [
    "aspect(300, [3,31])\n",
    "aspect(150, [6,31])"
   ]
  },
  {
   "cell_type": "code",
   "execution_count": 9,
   "metadata": {},
   "outputs": [],
   "source": [
    "def rgb(a, b, c):\n",
    "    print(\"{\" + f\"{round(a/255,2)}\" + \", \" + f\"{round(b/255,2)}\" + \", \" + f\"{round(c/255,2)}\" + \"}\")"
   ]
  },
  {
   "cell_type": "code",
   "execution_count": 13,
   "metadata": {},
   "outputs": [
    {
     "name": "stdout",
     "output_type": "stream",
     "text": [
      "{0.91, 0.82, 0.63}\n"
     ]
    }
   ],
   "source": [
    "rgb(232, 210, 160)"
   ]
  },
  {
   "cell_type": "code",
   "execution_count": 6,
   "metadata": {},
   "outputs": [],
   "source": [
    "def rel(tarObj, refObj):\n",
    "    tarObj = [word.strip() for word in tarObj.strip(\"{}\").split(\",\")]\n",
    "    refObj = [word.strip() for word in refObj.strip(\"{}\").split(\",\")]\n",
    "    var = [\"x\", \"y\", \"z\"]\n",
    "    calcs = [f\"{var[i]} = {round(float(tarObj[i]) - float(refObj[i]), 3)}\" for i in range(len(tarObj))]\n",
    "    pre = \", \".join(calcs).replace(\"[\", \"{\").replace(\"]\", \"}\")\n",
    "    print(\"{\" + pre + \"}\")"
   ]
  },
  {
   "cell_type": "code",
   "execution_count": 16,
   "metadata": {},
   "outputs": [
    {
     "name": "stdout",
     "output_type": "stream",
     "text": [
      "{x = 0.77, y = 0.38, z = -0.05}\n"
     ]
    }
   ],
   "source": [
    "tarObj = \"{106.72, 2.41, -23.97}\"\n",
    "refObj = \"{105.95, 2.03, -23.92}\"\n",
    "rel(tarObj, refObj)"
   ]
  },
  {
   "cell_type": "code",
   "execution_count": 18,
   "metadata": {},
   "outputs": [
    {
     "data": {
      "text/plain": [
       "-6.14"
      ]
     },
     "execution_count": 18,
     "metadata": {},
     "output_type": "execute_result"
    }
   ],
   "source": [
    "-0.05-6.09"
   ]
  },
  {
   "cell_type": "code",
   "execution_count": null,
   "metadata": {},
   "outputs": [],
   "source": [
    "satchelGUIDs = {\"b1575f\", \"68d3c2\", \"2a1a9a\", \"b61cc9\"}"
   ]
  }
 ],
 "metadata": {
  "kernelspec": {
   "display_name": "work",
   "language": "python",
   "name": "python3"
  },
  "language_info": {
   "codemirror_mode": {
    "name": "ipython",
    "version": 3
   },
   "file_extension": ".py",
   "mimetype": "text/x-python",
   "name": "python",
   "nbconvert_exporter": "python",
   "pygments_lexer": "ipython3",
   "version": "3.12.0"
  }
 },
 "nbformat": 4,
 "nbformat_minor": 2
}
