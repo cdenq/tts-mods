{
 "cells": [
  {
   "cell_type": "code",
   "execution_count": 16,
   "metadata": {},
   "outputs": [],
   "source": [
    "def rgb(a, b, c):\n",
    "    print(\"{\" + f\"{round(a/255,2)}\" + \", \" + f\"{round(b/255,2)}\" + \", \" + f\"{round(c/255,2)}\" + \"}\")"
   ]
  },
  {
   "cell_type": "code",
   "execution_count": 17,
   "metadata": {},
   "outputs": [
    {
     "name": "stdout",
     "output_type": "stream",
     "text": [
      "{0.88, 0.4, 0.12}\n"
     ]
    }
   ],
   "source": [
    "rgb(225, 103, 31)"
   ]
  },
  {
   "cell_type": "code",
   "execution_count": 1,
   "metadata": {},
   "outputs": [],
   "source": [
    "def rel(relative_object, reference_object):\n",
    "    for i in range(len(relative_object)):\n",
    "        print(round(relative_object[i] - reference_object[i], 3))"
   ]
  },
  {
   "cell_type": "code",
   "execution_count": 2,
   "metadata": {},
   "outputs": [
    {
     "name": "stdout",
     "output_type": "stream",
     "text": [
      "1.99\n",
      "-0.48\n",
      "-2.51\n"
     ]
    }
   ],
   "source": [
    "rel([45.87, 1.59, 0.81], [43.88, 2.07, 3.32])"
   ]
  },
  {
   "cell_type": "code",
   "execution_count": null,
   "metadata": {},
   "outputs": [],
   "source": []
  }
 ],
 "metadata": {
  "kernelspec": {
   "display_name": "work",
   "language": "python",
   "name": "python3"
  },
  "language_info": {
   "codemirror_mode": {
    "name": "ipython",
    "version": 3
   },
   "file_extension": ".py",
   "mimetype": "text/x-python",
   "name": "python",
   "nbconvert_exporter": "python",
   "pygments_lexer": "ipython3",
   "version": "3.12.0"
  }
 },
 "nbformat": 4,
 "nbformat_minor": 2
}
