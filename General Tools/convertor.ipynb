{
 "cells": [
  {
   "cell_type": "code",
   "execution_count": 16,
   "metadata": {},
   "outputs": [],
   "source": [
    "def rgb(a, b, c):\n",
    "    print(\"{\" + f\"{round(a/255,2)}\" + \", \" + f\"{round(b/255,2)}\" + \", \" + f\"{round(c/255,2)}\" + \"}\")"
   ]
  },
  {
   "cell_type": "code",
   "execution_count": 17,
   "metadata": {},
   "outputs": [
    {
     "name": "stdout",
     "output_type": "stream",
     "text": [
      "{0.88, 0.4, 0.12}\n"
     ]
    }
   ],
   "source": [
    "rgb(225, 103, 31)"
   ]
  },
  {
   "cell_type": "code",
   "execution_count": 1,
   "metadata": {},
   "outputs": [],
   "source": [
    "def rel(relative_object, reference_object):\n",
    "    for i in range(len(relative_object)):\n",
    "        print(round(relative_object[i] - reference_object[i], 3))"
   ]
  },
  {
   "cell_type": "code",
   "execution_count": 2,
   "metadata": {},
   "outputs": [
    {
     "name": "stdout",
     "output_type": "stream",
     "text": [
      "-15.66\n",
      "-0.94\n",
      "25.15\n"
     ]
    }
   ],
   "source": [
    "rel([39.34, 4.06, -52.85], [55.00, 5.00, -78.00])"
   ]
  }
 ],
 "metadata": {
  "kernelspec": {
   "display_name": "work",
   "language": "python",
   "name": "python3"
  },
  "language_info": {
   "codemirror_mode": {
    "name": "ipython",
    "version": 3
   },
   "file_extension": ".py",
   "mimetype": "text/x-python",
   "name": "python",
   "nbconvert_exporter": "python",
   "pygments_lexer": "ipython3",
   "version": "3.12.0"
  }
 },
 "nbformat": 4,
 "nbformat_minor": 2
}
