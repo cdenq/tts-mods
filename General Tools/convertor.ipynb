{
 "cells": [
  {
   "cell_type": "code",
   "execution_count": 16,
   "metadata": {},
   "outputs": [],
   "source": [
    "def rgb(a, b, c):\n",
    "    print(\"{\" + f\"{round(a/255,2)}\" + \", \" + f\"{round(b/255,2)}\" + \", \" + f\"{round(c/255,2)}\" + \"}\")"
   ]
  },
  {
   "cell_type": "code",
   "execution_count": 17,
   "metadata": {},
   "outputs": [
    {
     "name": "stdout",
     "output_type": "stream",
     "text": [
      "{0.88, 0.4, 0.12}\n"
     ]
    }
   ],
   "source": [
    "rgb(225, 103, 31)"
   ]
  },
  {
   "cell_type": "code",
   "execution_count": 19,
   "metadata": {},
   "outputs": [],
   "source": [
    "def rel(relative_object, reference_object):\n",
    "    for i in range(len(relative_object)):\n",
    "        print(round(relative_object[i] - reference_object[i], 3))"
   ]
  },
  {
   "cell_type": "code",
   "execution_count": 20,
   "metadata": {},
   "outputs": [
    {
     "name": "stdout",
     "output_type": "stream",
     "text": [
      "0.35\n",
      "0.88\n",
      "-3.44\n"
     ]
    }
   ],
   "source": [
    "rel([59.48, 2.36, 42.83], [59.13, 1.48, 46.27])"
   ]
  },
  {
   "cell_type": "code",
   "execution_count": null,
   "metadata": {},
   "outputs": [],
   "source": []
  }
 ],
 "metadata": {
  "kernelspec": {
   "display_name": "work",
   "language": "python",
   "name": "python3"
  },
  "language_info": {
   "codemirror_mode": {
    "name": "ipython",
    "version": 3
   },
   "file_extension": ".py",
   "mimetype": "text/x-python",
   "name": "python",
   "nbconvert_exporter": "python",
   "pygments_lexer": "ipython3",
   "version": "3.12.0"
  }
 },
 "nbformat": 4,
 "nbformat_minor": 2
}
